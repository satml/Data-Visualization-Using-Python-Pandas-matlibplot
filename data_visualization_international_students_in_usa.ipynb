{
  "nbformat": 4,
  "nbformat_minor": 0,
  "metadata": {
    "colab": {
      "name": "data_visualization_international_students_in_usa",
      "provenance": [],
      "authorship_tag": "ABX9TyMkcxXsoCeDJSqu9TXgBTK+",
      "include_colab_link": true
    },
    "kernelspec": {
      "name": "python3",
      "display_name": "Python 3"
    }
  },
  "cells": [
    {
      "cell_type": "markdown",
      "metadata": {
        "id": "view-in-github",
        "colab_type": "text"
      },
      "source": [
        "<a href=\"https://colab.research.google.com/github/satml/Data-Visualization-Using-Python-Pandas-matlibplot/blob/master/data_visualization_international_students_in_usa.ipynb\" target=\"_parent\"><img src=\"https://colab.research.google.com/assets/colab-badge.svg\" alt=\"Open In Colab\"/></a>"
      ]
    },
    {
      "cell_type": "code",
      "metadata": {
        "id": "P3Nxn979kK-J",
        "colab_type": "code",
        "colab": {}
      },
      "source": [
        "import pandas as pd\n",
        "import numpy as np\n",
        "import matplotlib.pyplot as plt"
      ],
      "execution_count": 0,
      "outputs": []
    },
    {
      "cell_type": "code",
      "metadata": {
        "id": "Pu89fJEtkWNB",
        "colab_type": "code",
        "colab": {}
      },
      "source": [
        "#!pip install xlrd"
      ],
      "execution_count": 0,
      "outputs": []
    },
    {
      "cell_type": "code",
      "metadata": {
        "id": "zSfuQAeSkmKP",
        "colab_type": "code",
        "outputId": "9a804a2e-6cd5-4a23-f309-392c262d94c2",
        "colab": {
          "base_uri": "https://localhost:8080/",
          "height": 34
        }
      },
      "source": [
        "#https://p.widencdn.net/bmzd7h/International-Students-Places-of-Origin\n",
        "rows_to_skip = list(range(4)) # 0.1,2,3\n",
        "rows_to_skip.append(5) #5\n",
        "\n",
        "df_is = pd.read_excel('https://p.widencdn.net/bmzd7h/International-Students-Places-of-Origin',\n",
        "                       sheet_name='1',\n",
        "                       skiprows=rows_to_skip,\n",
        "                       skipfooter=2)\n",
        "\n",
        "print ('Data read into a pandas dataframe!')"
      ],
      "execution_count": 0,
      "outputs": [
        {
          "output_type": "stream",
          "text": [
            "Data read into a pandas dataframe!\n"
          ],
          "name": "stdout"
        }
      ]
    },
    {
      "cell_type": "code",
      "metadata": {
        "id": "hhTInB2fljg0",
        "colab_type": "code",
        "outputId": "35a317cf-ef97-4db9-9d55-c7d8b3cba385",
        "colab": {
          "base_uri": "https://localhost:8080/",
          "height": 195
        }
      },
      "source": [
        "df_is.head()"
      ],
      "execution_count": 0,
      "outputs": [
        {
          "output_type": "execute_result",
          "data": {
            "text/html": [
              "<div>\n",
              "<style scoped>\n",
              "    .dataframe tbody tr th:only-of-type {\n",
              "        vertical-align: middle;\n",
              "    }\n",
              "\n",
              "    .dataframe tbody tr th {\n",
              "        vertical-align: top;\n",
              "    }\n",
              "\n",
              "    .dataframe thead th {\n",
              "        text-align: right;\n",
              "    }\n",
              "</style>\n",
              "<table border=\"1\" class=\"dataframe\">\n",
              "  <thead>\n",
              "    <tr style=\"text-align: right;\">\n",
              "      <th></th>\n",
              "      <th>Rank</th>\n",
              "      <th>Place of Origin</th>\n",
              "      <th>2017/18</th>\n",
              "      <th>2018/19</th>\n",
              "      <th>% of Total</th>\n",
              "      <th>Change</th>\n",
              "    </tr>\n",
              "  </thead>\n",
              "  <tbody>\n",
              "    <tr>\n",
              "      <th>0</th>\n",
              "      <td>1</td>\n",
              "      <td>China</td>\n",
              "      <td>363341</td>\n",
              "      <td>369548</td>\n",
              "      <td>33.7</td>\n",
              "      <td>1.7</td>\n",
              "    </tr>\n",
              "    <tr>\n",
              "      <th>1</th>\n",
              "      <td>2</td>\n",
              "      <td>India</td>\n",
              "      <td>196271</td>\n",
              "      <td>202014</td>\n",
              "      <td>18.4</td>\n",
              "      <td>2.9</td>\n",
              "    </tr>\n",
              "    <tr>\n",
              "      <th>2</th>\n",
              "      <td>3</td>\n",
              "      <td>South Korea</td>\n",
              "      <td>54555</td>\n",
              "      <td>52250</td>\n",
              "      <td>4.8</td>\n",
              "      <td>-4.2</td>\n",
              "    </tr>\n",
              "    <tr>\n",
              "      <th>3</th>\n",
              "      <td>4</td>\n",
              "      <td>Saudi Arabia</td>\n",
              "      <td>44432</td>\n",
              "      <td>37080</td>\n",
              "      <td>3.4</td>\n",
              "      <td>-16.5</td>\n",
              "    </tr>\n",
              "    <tr>\n",
              "      <th>4</th>\n",
              "      <td>5</td>\n",
              "      <td>Canada</td>\n",
              "      <td>25909</td>\n",
              "      <td>26122</td>\n",
              "      <td>2.4</td>\n",
              "      <td>0.8</td>\n",
              "    </tr>\n",
              "  </tbody>\n",
              "</table>\n",
              "</div>"
            ],
            "text/plain": [
              "   Rank Place of Origin  2017/18  2018/19  % of Total  Change\n",
              "0     1           China   363341   369548        33.7     1.7\n",
              "1     2           India   196271   202014        18.4     2.9\n",
              "2     3     South Korea    54555    52250         4.8    -4.2\n",
              "3     4    Saudi Arabia    44432    37080         3.4   -16.5\n",
              "4     5          Canada    25909    26122         2.4     0.8"
            ]
          },
          "metadata": {
            "tags": []
          },
          "execution_count": 28
        }
      ]
    },
    {
      "cell_type": "code",
      "metadata": {
        "id": "5epYyE42l2Mc",
        "colab_type": "code",
        "outputId": "269ced19-a31c-4889-925d-4b6417af1f12",
        "colab": {
          "base_uri": "https://localhost:8080/",
          "height": 246
        }
      },
      "source": [
        "#When analyzing a dataset, it's always a good idea to start by getting basic information about your dataframe. We can do this by using the info() method.\n",
        "df_is.info()"
      ],
      "execution_count": 0,
      "outputs": [
        {
          "output_type": "stream",
          "text": [
            "<class 'pandas.core.frame.DataFrame'>\n",
            "RangeIndex: 23 entries, 0 to 22\n",
            "Data columns (total 6 columns):\n",
            " #   Column           Non-Null Count  Dtype  \n",
            "---  ------           --------------  -----  \n",
            " 0   Rank             23 non-null     int64  \n",
            " 1   Place of Origin  23 non-null     object \n",
            " 2   2017/18          23 non-null     int64  \n",
            " 3   2018/19          23 non-null     int64  \n",
            " 4   % of Total       23 non-null     float64\n",
            " 5   Change           23 non-null     float64\n",
            "dtypes: float64(2), int64(3), object(1)\n",
            "memory usage: 1.2+ KB\n"
          ],
          "name": "stdout"
        }
      ]
    },
    {
      "cell_type": "code",
      "metadata": {
        "id": "0B7WrGIImJ42",
        "colab_type": "code",
        "outputId": "1339cfa4-b7c3-4758-b95d-cdc085e915df",
        "colab": {
          "base_uri": "https://localhost:8080/",
          "height": 52
        }
      },
      "source": [
        "#To get the list of column headers we can call upon the dataframe's .columns parameter\n",
        "df_is.columns.values"
      ],
      "execution_count": 0,
      "outputs": [
        {
          "output_type": "execute_result",
          "data": {
            "text/plain": [
              "array(['Rank', 'Place of Origin', '2017/18', '2018/19', '% of Total',\n",
              "       'Change'], dtype=object)"
            ]
          },
          "metadata": {
            "tags": []
          },
          "execution_count": 30
        }
      ]
    },
    {
      "cell_type": "code",
      "metadata": {
        "id": "uJkk1A25mp3q",
        "colab_type": "code",
        "outputId": "4482e342-9307-4ad4-9141-b4c483e033eb",
        "colab": {
          "base_uri": "https://localhost:8080/",
          "height": 52
        }
      },
      "source": [
        "#Similarly, to get the list of indicies we use the .index parameter.\n",
        "df_is.index.values"
      ],
      "execution_count": 0,
      "outputs": [
        {
          "output_type": "execute_result",
          "data": {
            "text/plain": [
              "array([ 0,  1,  2,  3,  4,  5,  6,  7,  8,  9, 10, 11, 12, 13, 14, 15, 16,\n",
              "       17, 18, 19, 20, 21, 22])"
            ]
          },
          "metadata": {
            "tags": []
          },
          "execution_count": 31
        }
      ]
    },
    {
      "cell_type": "code",
      "metadata": {
        "id": "rfXM6Ovqm8nz",
        "colab_type": "code",
        "outputId": "0ff87805-3382-4f79-ada6-0b7ef89b0afc",
        "colab": {
          "base_uri": "https://localhost:8080/",
          "height": 52
        }
      },
      "source": [
        "print(type(df_is.columns))\n",
        "print(type(df_is.index))"
      ],
      "execution_count": 0,
      "outputs": [
        {
          "output_type": "stream",
          "text": [
            "<class 'pandas.core.indexes.base.Index'>\n",
            "<class 'pandas.core.indexes.range.RangeIndex'>\n"
          ],
          "name": "stdout"
        }
      ]
    },
    {
      "cell_type": "code",
      "metadata": {
        "id": "8hFmio0cnJjl",
        "colab_type": "code",
        "outputId": "0e334943-7fc2-4287-9b2b-48c1d16c3e38",
        "colab": {
          "base_uri": "https://localhost:8080/",
          "height": 52
        }
      },
      "source": [
        "#To get the index and columns as lists, we can use the tolist() method.\n",
        "df_is.columns.tolist()\n",
        "df_is.index.tolist()\n",
        "\n",
        "print (type(df_is.columns.tolist()))\n",
        "print (type(df_is.index.tolist()))"
      ],
      "execution_count": 0,
      "outputs": [
        {
          "output_type": "stream",
          "text": [
            "<class 'list'>\n",
            "<class 'list'>\n"
          ],
          "name": "stdout"
        }
      ]
    },
    {
      "cell_type": "code",
      "metadata": {
        "id": "_uCJ9zxhnXpW",
        "colab_type": "code",
        "outputId": "03daab05-f862-4be7-f1c8-2e4b1ffd10b0",
        "colab": {
          "base_uri": "https://localhost:8080/",
          "height": 34
        }
      },
      "source": [
        "# Dimension\n",
        "# size of dataframe (rows, columns)\n",
        "df_is.shape    "
      ],
      "execution_count": 0,
      "outputs": [
        {
          "output_type": "execute_result",
          "data": {
            "text/plain": [
              "(23, 6)"
            ]
          },
          "metadata": {
            "tags": []
          },
          "execution_count": 34
        }
      ]
    },
    {
      "cell_type": "code",
      "metadata": {
        "id": "JzKTJzB9nxvK",
        "colab_type": "code",
        "outputId": "50b621cf-8f32-4f5f-d5ed-38618c60aa54",
        "colab": {
          "base_uri": "https://localhost:8080/",
          "height": 106
        }
      },
      "source": [
        "#Let's clean the data set to remove a few unnecessary columns. We can use pandas drop() method as follows:\n",
        "\n",
        "# in pandas axis=0 represents rows (default) and axis=1 represents columns.\n",
        "df_is.drop(['Rank'], axis=1, inplace=True)\n",
        "df_is.head(2)"
      ],
      "execution_count": 0,
      "outputs": [
        {
          "output_type": "execute_result",
          "data": {
            "text/html": [
              "<div>\n",
              "<style scoped>\n",
              "    .dataframe tbody tr th:only-of-type {\n",
              "        vertical-align: middle;\n",
              "    }\n",
              "\n",
              "    .dataframe tbody tr th {\n",
              "        vertical-align: top;\n",
              "    }\n",
              "\n",
              "    .dataframe thead th {\n",
              "        text-align: right;\n",
              "    }\n",
              "</style>\n",
              "<table border=\"1\" class=\"dataframe\">\n",
              "  <thead>\n",
              "    <tr style=\"text-align: right;\">\n",
              "      <th></th>\n",
              "      <th>Place of Origin</th>\n",
              "      <th>2017/18</th>\n",
              "      <th>2018/19</th>\n",
              "      <th>% of Total</th>\n",
              "      <th>Change</th>\n",
              "    </tr>\n",
              "  </thead>\n",
              "  <tbody>\n",
              "    <tr>\n",
              "      <th>0</th>\n",
              "      <td>China</td>\n",
              "      <td>363341</td>\n",
              "      <td>369548</td>\n",
              "      <td>33.7</td>\n",
              "      <td>1.7</td>\n",
              "    </tr>\n",
              "    <tr>\n",
              "      <th>1</th>\n",
              "      <td>India</td>\n",
              "      <td>196271</td>\n",
              "      <td>202014</td>\n",
              "      <td>18.4</td>\n",
              "      <td>2.9</td>\n",
              "    </tr>\n",
              "  </tbody>\n",
              "</table>\n",
              "</div>"
            ],
            "text/plain": [
              "  Place of Origin  2017/18  2018/19  % of Total  Change\n",
              "0           China   363341   369548        33.7     1.7\n",
              "1           India   196271   202014        18.4     2.9"
            ]
          },
          "metadata": {
            "tags": []
          },
          "execution_count": 35
        }
      ]
    },
    {
      "cell_type": "code",
      "metadata": {
        "id": "tlOlUiYsoF6E",
        "colab_type": "code",
        "outputId": "c3cfcd27-6d4f-4eb1-c76b-b6f4974107bc",
        "colab": {
          "base_uri": "https://localhost:8080/",
          "height": 34
        }
      },
      "source": [
        "#Let's rename the columns so that they make sense. We can use rename() method by passing in a dictionary of old and new names as follows\n",
        "df_is.rename(columns={'Place of Origin':'Country of Origin' }, inplace=True)\n",
        "df_is.columns"
      ],
      "execution_count": 0,
      "outputs": [
        {
          "output_type": "execute_result",
          "data": {
            "text/plain": [
              "Index(['Country of Origin', '2017/18', '2018/19', '% of Total', 'Change'], dtype='object')"
            ]
          },
          "metadata": {
            "tags": []
          },
          "execution_count": 38
        }
      ]
    },
    {
      "cell_type": "code",
      "metadata": {
        "id": "h08Fu5pWoch0",
        "colab_type": "code",
        "colab": {}
      },
      "source": [
        "#We will also add a 'Total' column that sums up the total immigrants by country over the entire period 1980 - 2013, as follows:\n",
        "df_is['Total'] = df_is.sum(axis=1)"
      ],
      "execution_count": 0,
      "outputs": []
    },
    {
      "cell_type": "code",
      "metadata": {
        "id": "wjU4DXRUo17s",
        "colab_type": "code",
        "outputId": "911d5129-ca34-4fa8-d08a-532f10f4eb24",
        "colab": {
          "base_uri": "https://localhost:8080/",
          "height": 140
        }
      },
      "source": [
        "#We can check to see how many null objects we have in the dataset as follows:\n",
        "df_is.isnull().sum()\n"
      ],
      "execution_count": 0,
      "outputs": [
        {
          "output_type": "execute_result",
          "data": {
            "text/plain": [
              "Country of Origin    0\n",
              "2017/18              0\n",
              "2018/19              0\n",
              "% of Total           0\n",
              "Change               0\n",
              "Total                0\n",
              "dtype: int64"
            ]
          },
          "metadata": {
            "tags": []
          },
          "execution_count": 40
        }
      ]
    },
    {
      "cell_type": "code",
      "metadata": {
        "id": "J5jwlOE0pKDH",
        "colab_type": "code",
        "outputId": "41eeff8f-a390-4277-8b3b-686290b23098",
        "colab": {
          "base_uri": "https://localhost:8080/",
          "height": 284
        }
      },
      "source": [
        "#Finally, let's view a quick summary of each column in our dataframe using the describe() method\n",
        "df_is.describe()"
      ],
      "execution_count": 0,
      "outputs": [
        {
          "output_type": "execute_result",
          "data": {
            "text/html": [
              "<div>\n",
              "<style scoped>\n",
              "    .dataframe tbody tr th:only-of-type {\n",
              "        vertical-align: middle;\n",
              "    }\n",
              "\n",
              "    .dataframe tbody tr th {\n",
              "        vertical-align: top;\n",
              "    }\n",
              "\n",
              "    .dataframe thead th {\n",
              "        text-align: right;\n",
              "    }\n",
              "</style>\n",
              "<table border=\"1\" class=\"dataframe\">\n",
              "  <thead>\n",
              "    <tr style=\"text-align: right;\">\n",
              "      <th></th>\n",
              "      <th>2017/18</th>\n",
              "      <th>2018/19</th>\n",
              "      <th>% of Total</th>\n",
              "      <th>Change</th>\n",
              "      <th>Total</th>\n",
              "    </tr>\n",
              "  </thead>\n",
              "  <tbody>\n",
              "    <tr>\n",
              "      <th>count</th>\n",
              "      <td>23.000000</td>\n",
              "      <td>23.000000</td>\n",
              "      <td>23.000000</td>\n",
              "      <td>23.000000</td>\n",
              "      <td>23.000000</td>\n",
              "    </tr>\n",
              "    <tr>\n",
              "      <th>mean</th>\n",
              "      <td>39561.652174</td>\n",
              "      <td>39641.347826</td>\n",
              "      <td>3.613043</td>\n",
              "      <td>-1.086957</td>\n",
              "      <td>79205.526087</td>\n",
              "    </tr>\n",
              "    <tr>\n",
              "      <th>std</th>\n",
              "      <td>80737.986951</td>\n",
              "      <td>82373.809721</td>\n",
              "      <td>7.511464</td>\n",
              "      <td>6.202588</td>\n",
              "      <td>163108.957805</td>\n",
              "    </tr>\n",
              "    <tr>\n",
              "      <th>min</th>\n",
              "      <td>7496.000000</td>\n",
              "      <td>7760.000000</td>\n",
              "      <td>0.700000</td>\n",
              "      <td>-16.500000</td>\n",
              "      <td>15500.300000</td>\n",
              "    </tr>\n",
              "    <tr>\n",
              "      <th>25%</th>\n",
              "      <td>9422.000000</td>\n",
              "      <td>8953.500000</td>\n",
              "      <td>0.800000</td>\n",
              "      <td>-3.850000</td>\n",
              "      <td>18371.550000</td>\n",
              "    </tr>\n",
              "    <tr>\n",
              "      <th>50%</th>\n",
              "      <td>12783.000000</td>\n",
              "      <td>13229.000000</td>\n",
              "      <td>1.200000</td>\n",
              "      <td>-1.000000</td>\n",
              "      <td>26123.000000</td>\n",
              "    </tr>\n",
              "    <tr>\n",
              "      <th>75%</th>\n",
              "      <td>23389.500000</td>\n",
              "      <td>23880.500000</td>\n",
              "      <td>2.150000</td>\n",
              "      <td>2.300000</td>\n",
              "      <td>47274.350000</td>\n",
              "    </tr>\n",
              "    <tr>\n",
              "      <th>max</th>\n",
              "      <td>363341.000000</td>\n",
              "      <td>369548.000000</td>\n",
              "      <td>33.700000</td>\n",
              "      <td>10.000000</td>\n",
              "      <td>732924.400000</td>\n",
              "    </tr>\n",
              "  </tbody>\n",
              "</table>\n",
              "</div>"
            ],
            "text/plain": [
              "             2017/18        2018/19  % of Total     Change          Total\n",
              "count      23.000000      23.000000   23.000000  23.000000      23.000000\n",
              "mean    39561.652174   39641.347826    3.613043  -1.086957   79205.526087\n",
              "std     80737.986951   82373.809721    7.511464   6.202588  163108.957805\n",
              "min      7496.000000    7760.000000    0.700000 -16.500000   15500.300000\n",
              "25%      9422.000000    8953.500000    0.800000  -3.850000   18371.550000\n",
              "50%     12783.000000   13229.000000    1.200000  -1.000000   26123.000000\n",
              "75%     23389.500000   23880.500000    2.150000   2.300000   47274.350000\n",
              "max    363341.000000  369548.000000   33.700000  10.000000  732924.400000"
            ]
          },
          "metadata": {
            "tags": []
          },
          "execution_count": 41
        }
      ]
    },
    {
      "cell_type": "markdown",
      "metadata": {
        "id": "wKfAqo8DpqUN",
        "colab_type": "text"
      },
      "source": [
        "## *pandas* Intermediate: Indexing and Selection (slicing)<a id=\"6\"></a>\n"
      ]
    },
    {
      "cell_type": "markdown",
      "metadata": {
        "id": "p21ce1v5pwWi",
        "colab_type": "text"
      },
      "source": [
        "### Select Column\n",
        "**There are two ways to filter on a column name:**\n",
        "\n",
        "Method 1: Quick and easy, but only works if the column name does NOT have spaces or special characters.\n",
        "```python\n",
        "    df.column_name \n",
        "        (returns series)\n",
        "```\n",
        "\n",
        "Method 2: More robust, and can filter on multiple columns.\n",
        "\n",
        "```python\n",
        "    df['column']  \n",
        "        (returns series)\n",
        "```\n",
        "\n",
        "```python \n",
        "    df[['column 1', 'column 2']] \n",
        "        (returns dataframe)\n",
        "```\n",
        "---\n"
      ]
    },
    {
      "cell_type": "markdown",
      "metadata": {
        "id": "LE0ax-Z_qDh-",
        "colab_type": "text"
      },
      "source": [
        "Example: Let's try filtering on the list of countries ('Country')."
      ]
    },
    {
      "cell_type": "code",
      "metadata": {
        "id": "pVsXLpU5qGl8",
        "colab_type": "code",
        "outputId": "096a5a78-38d5-4a66-b315-bb94c6d6af83",
        "colab": {
          "base_uri": "https://localhost:8080/",
          "height": 439
        }
      },
      "source": [
        "df_is['Country of Origin']"
      ],
      "execution_count": 0,
      "outputs": [
        {
          "output_type": "execute_result",
          "data": {
            "text/plain": [
              "0              China\n",
              "1              India\n",
              "2        South Korea\n",
              "3       Saudi Arabia\n",
              "4             Canada\n",
              "5            Vietnam\n",
              "6             Taiwan\n",
              "7              Japan\n",
              "8             Brazil\n",
              "9             Mexico\n",
              "10           Nigeria\n",
              "11             Nepal\n",
              "12              Iran\n",
              "13    United Kingdom\n",
              "14            Turkey\n",
              "15            Kuwait\n",
              "16           Germany\n",
              "17            France\n",
              "18         Indonesia\n",
              "19        Bangladesh\n",
              "20          Colombia\n",
              "21          Pakistan\n",
              "22         Venezuela\n",
              "Name: Country of Origin, dtype: object"
            ]
          },
          "metadata": {
            "tags": []
          },
          "execution_count": 42
        }
      ]
    },
    {
      "cell_type": "markdown",
      "metadata": {
        "id": "jaoi3fAyr177",
        "colab_type": "text"
      },
      "source": [
        "## Select Row\n",
        "\n",
        "There are main 3 ways to select rows:\n",
        "\n",
        "```python\n",
        "    df.loc[label]        \n",
        "        #filters by the labels of the index/column\n",
        "    df.iloc[index]       \n",
        "        #filters by the positions of the index/column\n",
        "```\n",
        "Before we proceed, notice that the defaul index of the dataset is a numeric range from 0 to 194. This makes it very difficult to do a query by a specific country. For example to search for data on Japan, we need to know the corressponding index value.\n",
        "\n",
        "This can be fixed very easily by setting the 'Country' column as the index using `set_index()` method."
      ]
    },
    {
      "cell_type": "markdown",
      "metadata": {
        "id": "V773BQPgt9vj",
        "colab_type": "text"
      },
      "source": [
        "Column names that are integers (such as the years) might introduce some confusion. For example, when we are referencing the year 2013, one might confuse that when the 2013th positional index. \n",
        "\n",
        "To avoid this ambuigity, let's convert the column names into strings: '1980' to '2013'."
      ]
    },
    {
      "cell_type": "code",
      "metadata": {
        "id": "YHuLNKttt9LX",
        "colab_type": "code",
        "outputId": "2d1ddfb6-5ff8-4160-f6af-7593d906c7a7",
        "colab": {
          "base_uri": "https://localhost:8080/",
          "height": 140
        }
      },
      "source": [
        "df_is.columns = list(map(str, df_is.columns))\n",
        "[print (type(x)) for x in df_can.columns.values] #<-- uncomment to check type of column headers"
      ],
      "execution_count": 0,
      "outputs": [
        {
          "output_type": "stream",
          "text": [
            "<class 'str'>\n",
            "<class 'str'>\n",
            "<class 'str'>\n",
            "<class 'str'>\n",
            "<class 'str'>\n",
            "<class 'str'>\n"
          ],
          "name": "stdout"
        },
        {
          "output_type": "execute_result",
          "data": {
            "text/plain": [
              "[None, None, None, None, None, None]"
            ]
          },
          "metadata": {
            "tags": []
          },
          "execution_count": 59
        }
      ]
    },
    {
      "cell_type": "markdown",
      "metadata": {
        "id": "i_aOxRmPvbgL",
        "colab_type": "text"
      },
      "source": [
        "Visualizing using Matplot lib"
      ]
    },
    {
      "cell_type": "markdown",
      "metadata": {
        "id": "-2WJgRL3vi6a",
        "colab_type": "text"
      },
      "source": [
        "## Matplotlib: Standard Python Visualization Library<a id=\"10\"></a>\n",
        "\n",
        "The primary plotting library we will explore in the course is [Matplotlib](http://matplotlib.org/).  As mentioned on their website: \n",
        ">Matplotlib is a Python 2D plotting library which produces publication quality figures in a variety of hardcopy formats and interactive environments across platforms. Matplotlib can be used in Python scripts, the Python and IPython shell, the jupyter notebook, web application servers, and four graphical user interface toolkits.\n",
        "\n",
        "If you are aspiring to create impactful visualization with python, Matplotlib is an essential tool to have at your disposal."
      ]
    },
    {
      "cell_type": "markdown",
      "metadata": {
        "id": "11Venl3Nv0dv",
        "colab_type": "text"
      },
      "source": [
        "## Matplotlib: Standard Python Visualization Library<a id=\"10\"></a>\n",
        "\n",
        "The primary plotting library we will explore in the course is [Matplotlib](http://matplotlib.org/).  As mentioned on their website: \n",
        ">Matplotlib is a Python 2D plotting library which produces publication quality figures in a variety of hardcopy formats and interactive environments across platforms. Matplotlib can be used in Python scripts, the Python and IPython shell, the jupyter notebook, web application servers, and four graphical user interface toolkits.\n",
        "\n",
        "If you are aspiring to create impactful visualization with python, Matplotlib is an essential tool to have at your disposal."
      ]
    },
    {
      "cell_type": "code",
      "metadata": {
        "id": "1YJd7HnDv8Sb",
        "colab_type": "code",
        "colab": {}
      },
      "source": [
        "# we are using the inline backend\n",
        "%matplotlib inline \n",
        "\n",
        "import matplotlib as mpl\n",
        "import matplotlib.pyplot as plt"
      ],
      "execution_count": 0,
      "outputs": []
    },
    {
      "cell_type": "markdown",
      "metadata": {
        "id": "KABxsIqhwNtL",
        "colab_type": "text"
      },
      "source": [
        "### Plotting in *pandas*\n",
        "\n",
        "Fortunately, pandas has a built-in implementation of Matplotlib that we can use. Plotting in *pandas* is as simple as appending a `.plot()` method to a series or dataframe.\n",
        "\n",
        "Documentation:\n",
        "- [Plotting with Series](http://pandas.pydata.org/pandas-docs/stable/api.html#plotting)<br>\n",
        "- [Plotting with Dataframes](http://pandas.pydata.org/pandas-docs/stable/api.html#api-dataframe-plotting)"
      ]
    },
    {
      "cell_type": "markdown",
      "metadata": {
        "id": "P9z6n3uZwPfA",
        "colab_type": "text"
      },
      "source": [
        "# Line Pots (Series/Dataframe) <a id=\"12\"></a>"
      ]
    },
    {
      "cell_type": "markdown",
      "metadata": {
        "id": "7fWZ6olzwUfU",
        "colab_type": "text"
      },
      "source": [
        "**What is a line plot and why use it?**\n",
        "\n",
        "A line chart or line plot is a type of plot which displays information as a series of data points called 'markers' connected by straight line segments. It is a basic type of chart common in many fields.\n",
        "Use line plot when you have a continuous data set. These are best suited for trend-based visualizations of data over a period of time."
      ]
    },
    {
      "cell_type": "markdown",
      "metadata": {
        "id": "3hIxiU__wd-w",
        "colab_type": "text"
      },
      "source": [
        "**What is a line plot and why use it?**\n",
        "\n",
        "A line chart or line plot is a type of plot which displays information as a series of data points called 'markers' connected by straight line segments. It is a basic type of chart common in many fields.\n",
        "Use line plot when you have a continuous data set. These are best suited for trend-based visualizations of data over a period of time."
      ]
    },
    {
      "cell_type": "markdown",
      "metadata": {
        "id": "CBj1CRExwmN7",
        "colab_type": "text"
      },
      "source": [
        ""
      ]
    },
    {
      "cell_type": "markdown",
      "metadata": {
        "colab_type": "text",
        "id": "g32oRXkgG13M"
      },
      "source": [
        "We can easily add more countries to line plot to make meaningful comparisons immigration from different countries. \n",
        "\n",
        "**Question:** Let's compare the number of immigrants from India and China from 1980 to 2013."
      ]
    },
    {
      "cell_type": "code",
      "metadata": {
        "colab_type": "code",
        "outputId": "eebc9109-1cb0-41c3-d2fb-b0e81b44a806",
        "id": "UB3EU4TpG1Vt",
        "colab": {
          "base_uri": "https://localhost:8080/",
          "height": 195
        }
      },
      "source": [
        "df_is_p = df_is[['Country of Origin','% of Total' ]] # passing in years 1980 - 2013 to exclude the 'total' column\n",
        "df_is_p.head()"
      ],
      "execution_count": 0,
      "outputs": [
        {
          "output_type": "execute_result",
          "data": {
            "text/html": [
              "<div>\n",
              "<style scoped>\n",
              "    .dataframe tbody tr th:only-of-type {\n",
              "        vertical-align: middle;\n",
              "    }\n",
              "\n",
              "    .dataframe tbody tr th {\n",
              "        vertical-align: top;\n",
              "    }\n",
              "\n",
              "    .dataframe thead th {\n",
              "        text-align: right;\n",
              "    }\n",
              "</style>\n",
              "<table border=\"1\" class=\"dataframe\">\n",
              "  <thead>\n",
              "    <tr style=\"text-align: right;\">\n",
              "      <th></th>\n",
              "      <th>Country of Origin</th>\n",
              "      <th>% of Total</th>\n",
              "    </tr>\n",
              "  </thead>\n",
              "  <tbody>\n",
              "    <tr>\n",
              "      <th>0</th>\n",
              "      <td>China</td>\n",
              "      <td>33.7</td>\n",
              "    </tr>\n",
              "    <tr>\n",
              "      <th>1</th>\n",
              "      <td>India</td>\n",
              "      <td>18.4</td>\n",
              "    </tr>\n",
              "    <tr>\n",
              "      <th>2</th>\n",
              "      <td>South Korea</td>\n",
              "      <td>4.8</td>\n",
              "    </tr>\n",
              "    <tr>\n",
              "      <th>3</th>\n",
              "      <td>Saudi Arabia</td>\n",
              "      <td>3.4</td>\n",
              "    </tr>\n",
              "    <tr>\n",
              "      <th>4</th>\n",
              "      <td>Canada</td>\n",
              "      <td>2.4</td>\n",
              "    </tr>\n",
              "  </tbody>\n",
              "</table>\n",
              "</div>"
            ],
            "text/plain": [
              "  Country of Origin  % of Total\n",
              "0             China        33.7\n",
              "1             India        18.4\n",
              "2       South Korea         4.8\n",
              "3      Saudi Arabia         3.4\n",
              "4            Canada         2.4"
            ]
          },
          "metadata": {
            "tags": []
          },
          "execution_count": 55
        }
      ]
    },
    {
      "cell_type": "code",
      "metadata": {
        "id": "5MK96oIpOrOh",
        "colab_type": "code",
        "outputId": "43d9ea5c-64ff-4ab9-cc78-3b23ca80dfd5",
        "colab": {
          "base_uri": "https://localhost:8080/",
          "height": 457
        }
      },
      "source": [
        "df_is_p.set_index('Country of Origin', inplace=True)\n",
        "print(df_is_p)"
      ],
      "execution_count": 0,
      "outputs": [
        {
          "output_type": "stream",
          "text": [
            "                   % of Total\n",
            "Country of Origin            \n",
            "China                    33.7\n",
            "India                    18.4\n",
            "South Korea               4.8\n",
            "Saudi Arabia              3.4\n",
            "Canada                    2.4\n",
            "Vietnam                   2.2\n",
            "Taiwan                    2.1\n",
            "Japan                     1.7\n",
            "Brazil                    1.5\n",
            "Mexico                    1.4\n",
            "Nigeria                   1.2\n",
            "Nepal                     1.2\n",
            "Iran                      1.1\n",
            "United Kingdom            1.0\n",
            "Turkey                    0.9\n",
            "Kuwait                    0.8\n",
            "Germany                   0.8\n",
            "France                    0.8\n",
            "Indonesia                 0.8\n",
            "Bangladesh                0.8\n",
            "Colombia                  0.7\n",
            "Pakistan                  0.7\n",
            "Venezuela                 0.7\n"
          ],
          "name": "stdout"
        }
      ]
    },
    {
      "cell_type": "code",
      "metadata": {
        "id": "_MHImrxw1C6T",
        "colab_type": "code",
        "outputId": "3077505d-1991-41f8-f5af-13362b53384f",
        "colab": {
          "base_uri": "https://localhost:8080/",
          "height": 313
        }
      },
      "source": [
        "df_is_p.plot(kind='barh')\n",
        "plt.title('International Students in 2018/19')\n",
        "plt.xlabel('% of Total')"
      ],
      "execution_count": 0,
      "outputs": [
        {
          "output_type": "execute_result",
          "data": {
            "text/plain": [
              "Text(0.5, 0, '% of Total')"
            ]
          },
          "metadata": {
            "tags": []
          },
          "execution_count": 80
        },
        {
          "output_type": "display_data",
          "data": {
            "image/png": "[encoded data removed]",
            "text/plain": [
              "<Figure size 432x288 with 1 Axes>"
            ]
          },
          "metadata": {
            "tags": []
          }
        }
      ]
    },
    {
      "cell_type": "code",
      "metadata": {
        "id": "H7LkykCmQTy1",
        "colab_type": "code",
        "outputId": "b539079c-0163-40d4-ae15-7fe5ed2c6b2c",
        "colab": {
          "base_uri": "https://localhost:8080/",
          "height": 313
        }
      },
      "source": [
        "df_is_p.plot(kind='barh')\n",
        "plt.title('International Students in 2018/19')\n",
        "plt.xlabel('% of Total')"
      ],
      "execution_count": 0,
      "outputs": [
        {
          "output_type": "execute_result",
          "data": {
            "text/plain": [
              "Text(0.5, 0, '% of Total')"
            ]
          },
          "metadata": {
            "tags": []
          },
          "execution_count": 78
        },
        {
          "output_type": "display_data",
          "data": {
            "image/png": "[encoded data removed]",
            "text/plain": [
              "<Figure size 432x288 with 1 Axes>"
            ]
          },
          "metadata": {
            "tags": []
          }
        }
      ]
    },
    {
      "cell_type": "code",
      "metadata": {
        "id": "hGFjqI3X7CNc",
        "colab_type": "code",
        "outputId": "127ceb58-7847-42a4-9032-64922160edf6",
        "colab": {
          "base_uri": "https://localhost:8080/",
          "height": 195
        }
      },
      "source": [
        "df_is_18 = df_is[['Country of Origin','2018/19' ]] # passing in years 1980 - 2013 to exclude the 'total' column\n",
        "df_is_18.head()\n"
      ],
      "execution_count": 0,
      "outputs": [
        {
          "output_type": "execute_result",
          "data": {
            "text/html": [
              "<div>\n",
              "<style scoped>\n",
              "    .dataframe tbody tr th:only-of-type {\n",
              "        vertical-align: middle;\n",
              "    }\n",
              "\n",
              "    .dataframe tbody tr th {\n",
              "        vertical-align: top;\n",
              "    }\n",
              "\n",
              "    .dataframe thead th {\n",
              "        text-align: right;\n",
              "    }\n",
              "</style>\n",
              "<table border=\"1\" class=\"dataframe\">\n",
              "  <thead>\n",
              "    <tr style=\"text-align: right;\">\n",
              "      <th></th>\n",
              "      <th>Country of Origin</th>\n",
              "      <th>2018/19</th>\n",
              "    </tr>\n",
              "  </thead>\n",
              "  <tbody>\n",
              "    <tr>\n",
              "      <th>0</th>\n",
              "      <td>China</td>\n",
              "      <td>369548</td>\n",
              "    </tr>\n",
              "    <tr>\n",
              "      <th>1</th>\n",
              "      <td>India</td>\n",
              "      <td>202014</td>\n",
              "    </tr>\n",
              "    <tr>\n",
              "      <th>2</th>\n",
              "      <td>South Korea</td>\n",
              "      <td>52250</td>\n",
              "    </tr>\n",
              "    <tr>\n",
              "      <th>3</th>\n",
              "      <td>Saudi Arabia</td>\n",
              "      <td>37080</td>\n",
              "    </tr>\n",
              "    <tr>\n",
              "      <th>4</th>\n",
              "      <td>Canada</td>\n",
              "      <td>26122</td>\n",
              "    </tr>\n",
              "  </tbody>\n",
              "</table>\n",
              "</div>"
            ],
            "text/plain": [
              "  Country of Origin  2018/19\n",
              "0             China   369548\n",
              "1             India   202014\n",
              "2       South Korea    52250\n",
              "3      Saudi Arabia    37080\n",
              "4            Canada    26122"
            ]
          },
          "metadata": {
            "tags": []
          },
          "execution_count": 88
        }
      ]
    },
    {
      "cell_type": "code",
      "metadata": {
        "id": "pnYiBCoR2Y9z",
        "colab_type": "code",
        "outputId": "e1462b74-91ce-4d0d-b366-db1c9af43b27",
        "colab": {
          "base_uri": "https://localhost:8080/",
          "height": 313
        }
      },
      "source": [
        "#df_IC.index = df_IC.index.map(int) # let's change the index values of df_CI to type integer for plotting\n",
        "df_is_18.set_index('Country of Origin', inplace=True)\n",
        "df_is_18.plot(kind='barh')\n",
        "plt.title('International students in USA during 2018/19')\n",
        "#lt.ylabel('Nu')\n",
        "plt.xlabel('Number of Students')"
      ],
      "execution_count": 0,
      "outputs": [
        {
          "output_type": "execute_result",
          "data": {
            "text/plain": [
              "Text(0.5, 0, 'Number of Students')"
            ]
          },
          "metadata": {
            "tags": []
          },
          "execution_count": 89
        },
        {
          "output_type": "display_data",
          "data": {
            "image/png": "[encoded data removed]",
            "text/plain": [
              "<Figure size 432x288 with 1 Axes>"
            ]
          },
          "metadata": {
            "tags": []
          }
        }
      ]
    },
    {
      "cell_type": "code",
      "metadata": {
        "id": "YApI6QKTZzvR",
        "colab_type": "code",
        "outputId": "5bfd7a65-f0c9-4367-fad8-923a2b8f5c84",
        "colab": {
          "base_uri": "https://localhost:8080/",
          "height": 195
        }
      },
      "source": [
        "df_is_17 = df_is[['Country of Origin','2018/19' ]] # passing in years 1980 - 2013 to exclude the 'total' column\n",
        "df_is_17.head()"
      ],
      "execution_count": 0,
      "outputs": [
        {
          "output_type": "execute_result",
          "data": {
            "text/html": [
              "<div>\n",
              "<style scoped>\n",
              "    .dataframe tbody tr th:only-of-type {\n",
              "        vertical-align: middle;\n",
              "    }\n",
              "\n",
              "    .dataframe tbody tr th {\n",
              "        vertical-align: top;\n",
              "    }\n",
              "\n",
              "    .dataframe thead th {\n",
              "        text-align: right;\n",
              "    }\n",
              "</style>\n",
              "<table border=\"1\" class=\"dataframe\">\n",
              "  <thead>\n",
              "    <tr style=\"text-align: right;\">\n",
              "      <th></th>\n",
              "      <th>Country of Origin</th>\n",
              "      <th>2018/19</th>\n",
              "    </tr>\n",
              "  </thead>\n",
              "  <tbody>\n",
              "    <tr>\n",
              "      <th>0</th>\n",
              "      <td>China</td>\n",
              "      <td>369548</td>\n",
              "    </tr>\n",
              "    <tr>\n",
              "      <th>1</th>\n",
              "      <td>India</td>\n",
              "      <td>202014</td>\n",
              "    </tr>\n",
              "    <tr>\n",
              "      <th>2</th>\n",
              "      <td>South Korea</td>\n",
              "      <td>52250</td>\n",
              "    </tr>\n",
              "    <tr>\n",
              "      <th>3</th>\n",
              "      <td>Saudi Arabia</td>\n",
              "      <td>37080</td>\n",
              "    </tr>\n",
              "    <tr>\n",
              "      <th>4</th>\n",
              "      <td>Canada</td>\n",
              "      <td>26122</td>\n",
              "    </tr>\n",
              "  </tbody>\n",
              "</table>\n",
              "</div>"
            ],
            "text/plain": [
              "  Country of Origin  2018/19\n",
              "0             China   369548\n",
              "1             India   202014\n",
              "2       South Korea    52250\n",
              "3      Saudi Arabia    37080\n",
              "4            Canada    26122"
            ]
          },
          "metadata": {
            "tags": []
          },
          "execution_count": 90
        }
      ]
    },
    {
      "cell_type": "code",
      "metadata": {
        "id": "KZJOMgSAZ8YH",
        "colab_type": "code",
        "outputId": "94eb6d00-4798-4176-a536-9b89f718148f",
        "colab": {
          "base_uri": "https://localhost:8080/",
          "height": 313
        }
      },
      "source": [
        "df_is_17.set_index('Country of Origin', inplace=True)\n",
        "df_is_17.plot(kind='barh')\n",
        "plt.title('International students in USA during 2017/18')\n",
        "#lt.ylabel('Nu')\n",
        "plt.xlabel('Number of Students')"
      ],
      "execution_count": 0,
      "outputs": [
        {
          "output_type": "execute_result",
          "data": {
            "text/plain": [
              "Text(0.5, 0, 'Number of Students')"
            ]
          },
          "metadata": {
            "tags": []
          },
          "execution_count": 91
        },
        {
          "output_type": "display_data",
          "data": {
            "image/png": "[encoded data removed]",
            "text/plain": [
              "<Figure size 432x288 with 1 Axes>"
            ]
          },
          "metadata": {
            "tags": []
          }
        }
      ]
    },
    {
      "cell_type": "code",
      "metadata": {
        "id": "3klD1-QTaGhv",
        "colab_type": "code",
        "outputId": "15c6d781-27bb-4445-8dc9-261545f3aa55",
        "colab": {
          "base_uri": "https://localhost:8080/",
          "height": 195
        }
      },
      "source": [
        "df_is_change = df_is[['Country of Origin','Change' ]] # passing in years 1980 - 2013 to exclude the 'total' column\n",
        "df_is_change.head()"
      ],
      "execution_count": 0,
      "outputs": [
        {
          "output_type": "execute_result",
          "data": {
            "text/html": [
              "<div>\n",
              "<style scoped>\n",
              "    .dataframe tbody tr th:only-of-type {\n",
              "        vertical-align: middle;\n",
              "    }\n",
              "\n",
              "    .dataframe tbody tr th {\n",
              "        vertical-align: top;\n",
              "    }\n",
              "\n",
              "    .dataframe thead th {\n",
              "        text-align: right;\n",
              "    }\n",
              "</style>\n",
              "<table border=\"1\" class=\"dataframe\">\n",
              "  <thead>\n",
              "    <tr style=\"text-align: right;\">\n",
              "      <th></th>\n",
              "      <th>Country of Origin</th>\n",
              "      <th>Change</th>\n",
              "    </tr>\n",
              "  </thead>\n",
              "  <tbody>\n",
              "    <tr>\n",
              "      <th>0</th>\n",
              "      <td>China</td>\n",
              "      <td>1.7</td>\n",
              "    </tr>\n",
              "    <tr>\n",
              "      <th>1</th>\n",
              "      <td>India</td>\n",
              "      <td>2.9</td>\n",
              "    </tr>\n",
              "    <tr>\n",
              "      <th>2</th>\n",
              "      <td>South Korea</td>\n",
              "      <td>-4.2</td>\n",
              "    </tr>\n",
              "    <tr>\n",
              "      <th>3</th>\n",
              "      <td>Saudi Arabia</td>\n",
              "      <td>-16.5</td>\n",
              "    </tr>\n",
              "    <tr>\n",
              "      <th>4</th>\n",
              "      <td>Canada</td>\n",
              "      <td>0.8</td>\n",
              "    </tr>\n",
              "  </tbody>\n",
              "</table>\n",
              "</div>"
            ],
            "text/plain": [
              "  Country of Origin  Change\n",
              "0             China     1.7\n",
              "1             India     2.9\n",
              "2       South Korea    -4.2\n",
              "3      Saudi Arabia   -16.5\n",
              "4            Canada     0.8"
            ]
          },
          "metadata": {
            "tags": []
          },
          "execution_count": 92
        }
      ]
    },
    {
      "cell_type": "code",
      "metadata": {
        "id": "EoqZ7OEjaZiv",
        "colab_type": "code",
        "outputId": "af268d77-a840-47a4-b088-5339b14d950b",
        "colab": {
          "base_uri": "https://localhost:8080/",
          "height": 313
        }
      },
      "source": [
        "#df_is_change.set_index('Country of Origin', inplace=True)\n",
        "df_is_change.plot(kind='barh')\n",
        "plt.title('Change of % in International students in USA  2017/18 to 2018/19')\n",
        "#lt.ylabel('Nu')\n",
        "plt.xlabel('% Change ')"
      ],
      "execution_count": 0,
      "outputs": [
        {
          "output_type": "execute_result",
          "data": {
            "text/plain": [
              "Text(0.5, 0, '% Change ')"
            ]
          },
          "metadata": {
            "tags": []
          },
          "execution_count": 95
        },
        {
          "output_type": "display_data",
          "data": {
            "image/png": "[encoded data removed]",
            "text/plain": [
              "<Figure size 432x288 with 1 Axes>"
            ]
          },
          "metadata": {
            "tags": []
          }
        }
      ]
    }
  ]
}